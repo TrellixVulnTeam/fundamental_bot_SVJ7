{
 "cells": [
  {
   "cell_type": "code",
   "execution_count": 24,
   "metadata": {},
   "outputs": [],
   "source": [
    "import requests\n",
    "from bs4 import BeautifulSoup\n",
    "import lxml\n",
    "from fake_useragent import UserAgent"
   ]
  },
  {
   "cell_type": "code",
   "execution_count": 25,
   "metadata": {},
   "outputs": [],
   "source": [
    "url = 'https://smart-lab.ru/q/shares_fundamental/'"
   ]
  },
  {
   "cell_type": "code",
   "execution_count": 29,
   "metadata": {},
   "outputs": [],
   "source": [
    "def get_html(url):\n",
    "    r = requests.get(url, headers={'User-Agent': UserAgent().chrome})\n",
    "    return r.text"
   ]
  },
  {
   "cell_type": "code",
   "execution_count": 30,
   "metadata": {},
   "outputs": [],
   "source": [
    "def get_links_dict(html):\n",
    "    soup = BeautifulSoup(html, 'lxml')\n",
    "    table = soup.find('table', class_ = 'simple-little-table little trades-table').find_all('tr')\n",
    "    data_links = {}\n",
    "    for i in table:\n",
    "        try:\n",
    "            name = i.find_all('a')[0].text\n",
    "            key = \"{}{}\".format(name,'.csv')\n",
    "        except:\n",
    "            name = ''\n",
    "            \n",
    "    links = i.find_all('a', class_ ='charticon2')\n",
    "    for i in links:\n",
    "        try:\n",
    "            link = i.get('href')\n",
    "            value = '{}{}{}'.format('https://smart-lab.ru', link, 'MSFO/download/')\n",
    "        except:\n",
    "            link = ''\n",
    "        data = {key:value}\n",
    "        data_links.update(data)\n",
    "    return data_links"
   ]
  },
  {
   "cell_type": "code",
   "execution_count": null,
   "metadata": {},
   "outputs": [],
   "source": [
    "def get_file(**kwargs):\n",
    "    for key, value in links.items():\n",
    "        FILENAME = key\n",
    "        NEWNAME = '{}{}'.format(key.split('.')[0],'-годовой-отчёт.csv')\n",
    "        f = open(FILENAME,\"wb\")\n",
    "        ufr = requests.get(value)\n",
    "        f.write(ufr.content)\n",
    "        f.close()\n",
    "        df = pd.read_csv(FILENAME, delimiter=';')[['Unnamed: 0', '2016', '2017', '2018', '2019', 'LTM']]\n",
    "        df.to_csv(NEWNAME, index=False)\n",
    "        print('file {} is written'.format(NEWNAME))"
   ]
  },
  {
   "cell_type": "code",
   "execution_count": null,
   "metadata": {},
   "outputs": [],
   "source": []
  }
 ],
 "metadata": {
  "kernelspec": {
   "display_name": "Python 3",
   "language": "python",
   "name": "python3"
  },
  "language_info": {
   "codemirror_mode": {
    "name": "ipython",
    "version": 3
   },
   "file_extension": ".py",
   "mimetype": "text/x-python",
   "name": "python",
   "nbconvert_exporter": "python",
   "pygments_lexer": "ipython3",
   "version": "3.8.5"
  }
 },
 "nbformat": 4,
 "nbformat_minor": 4
}
